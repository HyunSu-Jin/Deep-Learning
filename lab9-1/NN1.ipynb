{
 "cells": [
  {
   "cell_type": "code",
   "execution_count": 1,
   "metadata": {
    "scrolled": false
   },
   "outputs": [
    {
     "name": "stdout",
     "output_type": "stream",
     "text": [
      "hypo :  [[ 0.01055974]\n",
      " [ 0.99349725]\n",
      " [ 0.99051219]\n",
      " [ 0.00899102]]\n",
      "Predict :  [[ 0.]\n",
      " [ 1.]\n",
      " [ 1.]\n",
      " [ 0.]]\n",
      "Accuracy :  1.0\n"
     ]
    }
   ],
   "source": [
    "import tensorflow as tf\n",
    "import numpy as np\n",
    "tf.set_random_seed(777)  # for reproducibility\n",
    "\n",
    "x_data = np.array([[0, 0], [0, 1], [1, 0], [1, 1]], dtype=np.float32)\n",
    "y_data = np.array([[0], [1], [1], [0]], dtype=np.float32)\n",
    "\n",
    "X = tf.placeholder(tf.float32, [None, 2], name='x-input')\n",
    "Y = tf.placeholder(tf.float32, [None, 1], name='y-input')\n",
    "# Use Neural Network\n",
    "\n",
    "# layer1\n",
    "with tf.name_scope(\"layer1\") as scope:\n",
    "    W1 = tf.Variable(tf.random_normal([2,2]),name=\"weight1\")\n",
    "    b1 = tf.Variable(tf.random_normal([2]),name=\"bias1\")\n",
    "    layer1 = tf.sigmoid(tf.matmul(X,W1)+b1)\n",
    "\n",
    "    w1_hist = tf.summary.histogram(\"weights1\", W1)\n",
    "    b1_hist = tf.summary.histogram(\"biases1\", b1)\n",
    "    layer1_hist = tf.summary.histogram(\"layer1\", layer1)\n",
    "    \n",
    "# layer2\n",
    "with tf.name_scope(\"layer2\") as scope:\n",
    "    W2 = tf.Variable(tf.random_normal([2,2]),name=\"weight2\")\n",
    "    b2 = tf.Variable(tf.random_normal([2]),name=\"bias2\")\n",
    "    layer2 = tf.sigmoid(tf.matmul(layer1,W2)+ b2)\n",
    "    \n",
    "    w2_hist = tf.summary.histogram(\"weights2\", W2)\n",
    "    b2_hist = tf.summary.histogram(\"biases2\", b2)\n",
    "    layer2_hist = tf.summary.histogram(\"layer2\", layer2)\n",
    "\n",
    "# layer3\n",
    "with tf.name_scope(\"layer3\") as scope:\n",
    "    W3 = tf.Variable(tf.random_normal([2,1]),name=\"weight3\")\n",
    "    b3 = tf.Variable(tf.random_normal([1]),name=\"bias3\")\n",
    "    hypothesis = tf.sigmoid(tf.matmul(layer2,W3)+ b3)\n",
    "    \n",
    "    w3_hist = tf.summary.histogram(\"weights3\", W3)\n",
    "    b3_hist = tf.summary.histogram(\"biases3\", b3)\n",
    "    hypothesis_hist = tf.summary.histogram(\"hypothesis\", hypothesis)\n",
    "\n",
    "\n",
    "with tf.name_scope(\"cost\") as scope:\n",
    "    cost = -tf.reduce_mean(Y * tf.log(hypothesis) + (1 - Y) * tf.log(1 - hypothesis))\n",
    "    cost_summ = tf.summary.scalar(\"cost\", cost)\n",
    "\n",
    "with tf.name_scope(\"train\") as scope:\n",
    "    train = tf.train.GradientDescentOptimizer(learning_rate=0.1).minimize(cost)\n",
    "\n",
    "prediction = tf.cast(hypothesis > 0.5,dtype=tf.float32)\n",
    "is_correct = tf.equal(prediction,Y)\n",
    "accuracy = tf.reduce_mean(tf.cast(is_correct,dtype=tf.float32))\n",
    "accuracy_summ = tf.summary.scalar(\"accuracy\", accuracy)\n",
    "\n",
    "\n",
    "with tf.Session() as sess:\n",
    "    # tensorboard --logdir=./logs/xor_logs\n",
    "    merged_summary = tf.summary.merge_all()\n",
    "    writer = tf.summary.FileWriter(\"./logs/NN1_log\")\n",
    "    writer.add_graph(sess.graph) # Show the graph\n",
    "    \n",
    "    sess.run(tf.global_variables_initializer())\n",
    "    \n",
    "    for step in range(10001):\n",
    "        summary, _ = sess.run([merged_summary,train],feed_dict={\n",
    "            X : x_data,\n",
    "            Y : y_data\n",
    "        })\n",
    "        writer.add_summary(summary, global_step=step)\n",
    "            \n",
    "    h,p,acc = sess.run([hypothesis,prediction,accuracy],feed_dict={\n",
    "        X : x_data,\n",
    "        Y : y_data\n",
    "    })\n",
    "    print(\"hypo : \",h)\n",
    "    print(\"Predict : \",p)\n",
    "    print(\"Accuracy : \",acc)\n"
   ]
  },
  {
   "cell_type": "code",
   "execution_count": null,
   "metadata": {
    "collapsed": true
   },
   "outputs": [],
   "source": []
  }
 ],
 "metadata": {
  "kernelspec": {
   "display_name": "Python 3",
   "language": "python",
   "name": "python3"
  },
  "language_info": {
   "codemirror_mode": {
    "name": "ipython",
    "version": 3
   },
   "file_extension": ".py",
   "mimetype": "text/x-python",
   "name": "python",
   "nbconvert_exporter": "python",
   "pygments_lexer": "ipython3",
   "version": "3.5.3"
  }
 },
 "nbformat": 4,
 "nbformat_minor": 2
}
